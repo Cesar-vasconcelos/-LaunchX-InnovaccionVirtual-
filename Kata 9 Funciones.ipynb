{
 "cells": [
  {
   "cell_type": "code",
   "execution_count": 16,
   "metadata": {},
   "outputs": [
    {
     "name": "stdout",
     "output_type": "stream",
     "text": [
      "Lectura =  56.666666666666664 %\n",
      "\n",
      "        Destino: Marte\n",
      "        Tiempo de viaje: 8.5 HRS\n",
      "        Nivel de combustible: 15000 LTS\n",
      "    \n"
     ]
    }
   ],
   "source": [
    "def LecturaTanques (Tanque1,Tanque2,Tanque3):\n",
    "    PromedioTanques = (Tanque1+Tanque2+Tanque3)/3\n",
    "    return PromedioTanques\n",
    "\n",
    "print ('Lectura = ',LecturaTanques(100,25,45),'%')\n",
    "\n",
    "\n",
    "def DatosDeLaMision(Prelanzamiento, TiempoDeVuelo, Destino, TanqueExterno, Tanque1):\n",
    "    return f\"\"\"\n",
    "        Destino: {Destino}\n",
    "        Tiempo de viaje: {Prelanzamiento+TiempoDeVuelo} HRS\n",
    "        Nivel de combustible: {TanqueExterno + Tanque1} LTS\n",
    "    \"\"\"\n",
    "\n",
    "print(DatosDeLaMision(2,6.5,\"Marte\",5000,10000))\n",
    "\n",
    "\n",
    "\n"
   ]
  },
  {
   "cell_type": "code",
   "execution_count": 17,
   "metadata": {},
   "outputs": [
    {
     "name": "stdout",
     "output_type": "stream",
     "text": [
      "\n",
      "    Mission to Moon\n",
      "    Total travel time: 74 minutes\n",
      "    Total fuel left: 500000\n",
      "    main tank --> 300000 gallons left\n",
      "external tank --> 200000 gallons left\n",
      "\n"
     ]
    }
   ],
   "source": [
    "def mission_report(destination, *minutes, **fuel_reservoirs):\n",
    "    main_report = f\"\"\"\n",
    "    Mission to {destination}\n",
    "    Total travel time: {sum(minutes)} minutes\n",
    "    Total fuel left: {sum(fuel_reservoirs.values())}\n",
    "    \"\"\"\n",
    "    for tank_name, gallons in fuel_reservoirs.items():\n",
    "        main_report += f\"{tank_name} tank --> {gallons} gallons left\\n\"\n",
    "    return main_report\n",
    "\n",
    "print(mission_report(\"Moon\", 8, 11, 55, main=300000, external=200000))\n",
    "\n"
   ]
  }
 ],
 "metadata": {
  "interpreter": {
   "hash": "916dbcbb3f70747c44a77c7bcd40155683ae19c65e1c03b4aa3499c5328201f1"
  },
  "kernelspec": {
   "display_name": "Python 3.8.10 64-bit",
   "language": "python",
   "name": "python3"
  },
  "language_info": {
   "codemirror_mode": {
    "name": "ipython",
    "version": 3
   },
   "file_extension": ".py",
   "mimetype": "text/x-python",
   "name": "python",
   "nbconvert_exporter": "python",
   "pygments_lexer": "ipython3",
   "version": "3.8.10"
  },
  "orig_nbformat": 4
 },
 "nbformat": 4,
 "nbformat_minor": 2
}
