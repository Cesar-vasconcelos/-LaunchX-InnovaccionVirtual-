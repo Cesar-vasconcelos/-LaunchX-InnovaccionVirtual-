{
 "cells": [
  {
   "cell_type": "markdown",
   "metadata": {},
   "source": [
    "Kata 7 Estructuras de control"
   ]
  },
  {
   "cell_type": "code",
   "execution_count": 32,
   "metadata": {},
   "outputs": [
    {
     "name": "stdout",
     "output_type": "stream",
     "text": [
      "Para agregar un planeta escibre \"1\" para salir escribe \"0\"\n",
      "Escribre el nombre de un planeta\n",
      "Para agregar otro planeta escibre \"1\" para salir escribe \"0\"\n",
      "Escribre el nombre de un planeta\n",
      "Para agregar otro planeta escibre \"1\" para salir escribe \"0\"\n",
      "Escribre el nombre de un planeta\n",
      "Para agregar otro planeta escibre \"1\" para salir escribe \"0\"\n",
      "Escribre el nombre de un planeta\n",
      "Para agregar otro planeta escibre \"1\" para salir escribe \"0\"\n",
      "Esta es la lista de planetas que creastre\n",
      "1\n",
      "1\n",
      "1\n",
      "0\n"
     ]
    }
   ],
   "source": [
    "print ('Para agregar un planeta escibre \"1\" para salir escribe \"0\"')\n",
    "respuesta = int(input())\n",
    "AddPlanets = ''\n",
    "ListaPlanetas = []\n",
    "while respuesta != 0:\n",
    "    print('-> Escribre el nombre de un planeta <-')\n",
    "    AddPlanets = input()\n",
    "    print('Para agregar otro planeta escibre \"1\" para salir escribe \"0\"')\n",
    "    respuesta = int(input())\n",
    "    ListaPlanetas.append (AddPlanets)\n",
    "print ('Esta es la lista de planetas que creastre')\n",
    "for ListaPlanetas in ListaPlanetas:\n",
    "        print (ListaPlanetas)\n",
    "\n"
   ]
  }
 ],
 "metadata": {
  "interpreter": {
   "hash": "916dbcbb3f70747c44a77c7bcd40155683ae19c65e1c03b4aa3499c5328201f1"
  },
  "kernelspec": {
   "display_name": "Python 3.8.10 64-bit",
   "language": "python",
   "name": "python3"
  },
  "language_info": {
   "codemirror_mode": {
    "name": "ipython",
    "version": 3
   },
   "file_extension": ".py",
   "mimetype": "text/x-python",
   "name": "python",
   "nbconvert_exporter": "python",
   "pygments_lexer": "ipython3",
   "version": "3.8.10"
  },
  "orig_nbformat": 4
 },
 "nbformat": 4,
 "nbformat_minor": 2
}
