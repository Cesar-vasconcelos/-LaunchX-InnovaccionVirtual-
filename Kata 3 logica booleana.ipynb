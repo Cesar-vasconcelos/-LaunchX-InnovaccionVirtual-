{
 "cells": [
  {
   "cell_type": "markdown",
   "metadata": {},
   "source": [
    "KATA 3 \n",
    "\"Usar lógica Booleana\""
   ]
  },
  {
   "cell_type": "code",
   "execution_count": 3,
   "metadata": {},
   "outputs": [
    {
     "name": "stdout",
     "output_type": "stream",
     "text": [
      "Asteroide no peligriso\n"
     ]
    }
   ],
   "source": [
    "VelociAsteroide = 49\n",
    "if VelociAsteroide > 25:\n",
    "    print ('Asteroide potencialmete ¡DESTRUCTIVO!')\n",
    "else:\n",
    "    print('Asteroide no peligriso')\n"
   ]
  },
  {
   "cell_type": "code",
   "execution_count": 6,
   "metadata": {},
   "outputs": [
    {
     "name": "stdout",
     "output_type": "stream",
     "text": [
      "Asteroide sin efecto de Luz\n"
     ]
    }
   ],
   "source": [
    "VelociAsteroide = 19\n",
    "if VelociAsteroide == 20:\n",
    "    print ('Observa el cielo')\n",
    "elif VelociAsteroide > 20:\n",
    "    print ('Desteyo de Luz, observe el cielo')\n",
    "else:\n",
    "    print('Asteroide sin efecto de Luz')"
   ]
  },
  {
   "cell_type": "code",
   "execution_count": 7,
   "metadata": {},
   "outputs": [
    {
     "name": "stdout",
     "output_type": "stream",
     "text": [
      "Amenaza de Asteroide\n"
     ]
    }
   ],
   "source": [
    "TamAsteroide = 30\n",
    "VelociAsteroide = 15\n",
    "if TamAsteroide > 25 and TamAsteroide < 1000:\n",
    "    print ('Amenaza de Asteroide')\n",
    "    if VelociAsteroide > 25 or VelociAsteroide >= 20:\n",
    "        print ('¡Asteroide Peligriso! ¡Observe el cielo!')\n",
    "elif TamAsteroide < 25 and VelociAsteroide >= 20:\n",
    "    print ('Asteroide inofencivo, observe el cielo')\n",
    "else:\n",
    "    print('Fuera de peligro')\n",
    "    "
   ]
  }
 ],
 "metadata": {
  "interpreter": {
   "hash": "916dbcbb3f70747c44a77c7bcd40155683ae19c65e1c03b4aa3499c5328201f1"
  },
  "kernelspec": {
   "display_name": "Python 3.8.10 64-bit",
   "language": "python",
   "name": "python3"
  },
  "language_info": {
   "codemirror_mode": {
    "name": "ipython",
    "version": 3
   },
   "file_extension": ".py",
   "mimetype": "text/x-python",
   "name": "python",
   "nbconvert_exporter": "python",
   "pygments_lexer": "ipython3",
   "version": "3.8.10"
  },
  "orig_nbformat": 4
 },
 "nbformat": 4,
 "nbformat_minor": 2
}
